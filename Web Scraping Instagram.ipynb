{
 "cells": [
  {
   "cell_type": "code",
   "execution_count": 42,
   "metadata": {},
   "outputs": [],
   "source": [
    "from selenium import webdriver as wb\n",
    "from selenium.webdriver.common.keys import Keys\n",
    "from selenium.webdriver.support import expected_conditions as EC\n",
    "from selenium.webdriver.common.by import By\n",
    "from selenium.webdriver.support.wait import WebDriverWait"
   ]
  },
  {
   "cell_type": "code",
   "execution_count": 43,
   "metadata": {},
   "outputs": [],
   "source": [
    "import os\n",
    "import wget"
   ]
  },
  {
   "cell_type": "code",
   "execution_count": 44,
   "metadata": {},
   "outputs": [],
   "source": [
    "# Open browser\n",
    "\n",
    "browser = wb.Firefox(executable_path=r'C:\\Users\\USER\\geckodriver.exe')\n",
    "browser.get(\"https://www.intagram.com/\")"
   ]
  },
  {
   "cell_type": "code",
   "execution_count": 45,
   "metadata": {},
   "outputs": [],
   "source": [
    "# Get the username and password fields\n",
    "\n",
    "username = WebDriverWait(browser,10).until(EC.element_to_be_clickable((By.CSS_SELECTOR,\"input[name='username']\")))\n",
    "password = WebDriverWait(browser,10).until(EC.element_to_be_clickable((By.CSS_SELECTOR,\"input[name='password']\")))"
   ]
  },
  {
   "cell_type": "code",
   "execution_count": 46,
   "metadata": {},
   "outputs": [],
   "source": [
    "# make sure that username and password are empty so we can right on\n",
    "\n",
    "username.clear()\n",
    "password.clear() "
   ]
  },
  {
   "cell_type": "code",
   "execution_count": 47,
   "metadata": {},
   "outputs": [],
   "source": [
    "#Enter informations\n",
    "\n",
    "username.send_keys(\"datascientist9\")\n",
    "password.send_keys(\"0000AAAABBBB\")"
   ]
  },
  {
   "cell_type": "code",
   "execution_count": 48,
   "metadata": {},
   "outputs": [],
   "source": [
    "# Get the login button and click it\n",
    "\n",
    "login = WebDriverWait(browser,10).until(EC.element_to_be_clickable((By.CSS_SELECTOR,\"button[type='submit']\")))\n",
    "login.click()"
   ]
  },
  {
   "cell_type": "code",
   "execution_count": 49,
   "metadata": {},
   "outputs": [],
   "source": [
    "# Get and press the 'Later' button\n",
    "\n",
    "later = WebDriverWait(browser,10).until(EC.element_to_be_clickable((By.XPATH,\"//button[contains(text(),'Plus tard')]\")))\n",
    "later.click()"
   ]
  },
  {
   "cell_type": "code",
   "execution_count": 50,
   "metadata": {},
   "outputs": [],
   "source": [
    "# Get and press the skip button notifications\n",
    "\n",
    "later_notifications = WebDriverWait(browser,10).until(EC.element_to_be_clickable((By.XPATH,\"//button[contains(text(),'Plus tard')]\")))\n",
    "later_notifications.click()"
   ]
  },
  {
   "cell_type": "code",
   "execution_count": 51,
   "metadata": {},
   "outputs": [],
   "source": [
    "# Get the search button\n",
    "\n",
    "search = WebDriverWait(browser,10).until(EC.element_to_be_clickable((By.XPATH,\"//input[@placeholder = 'Rechercher']\")))\n",
    "search.clear()\n",
    "word = \"#dog\"\n",
    "search.send_keys(word)"
   ]
  },
  {
   "cell_type": "code",
   "execution_count": 56,
   "metadata": {},
   "outputs": [],
   "source": [
    "# Enter \n",
    "\n",
    "search.send_keys(Keys.ENTER)"
   ]
  },
  {
   "cell_type": "code",
   "execution_count": 57,
   "metadata": {},
   "outputs": [],
   "source": [
    "# Scroll\n",
    "\n",
    "browser.execute_script(\"window.scrollTo(0, document.body.scrollHeight);\")"
   ]
  },
  {
   "cell_type": "code",
   "execution_count": 58,
   "metadata": {},
   "outputs": [
    {
     "data": {
      "text/plain": [
       "[<selenium.webdriver.firefox.webelement.FirefoxWebElement (session=\"3b3fb230-1c44-4bfc-99b2-f0a1e8a26e90\", element=\"b555918d-4153-4967-9b31-7e369ed97cfa\")>,\n",
       " <selenium.webdriver.firefox.webelement.FirefoxWebElement (session=\"3b3fb230-1c44-4bfc-99b2-f0a1e8a26e90\", element=\"be619e95-86ce-47f9-a066-79d509cf43fa\")>,\n",
       " <selenium.webdriver.firefox.webelement.FirefoxWebElement (session=\"3b3fb230-1c44-4bfc-99b2-f0a1e8a26e90\", element=\"fe4ea231-7fb1-470c-9b9e-24beaa102b71\")>,\n",
       " <selenium.webdriver.firefox.webelement.FirefoxWebElement (session=\"3b3fb230-1c44-4bfc-99b2-f0a1e8a26e90\", element=\"9d96a294-0d19-408b-a106-1b0c7a64ea76\")>,\n",
       " <selenium.webdriver.firefox.webelement.FirefoxWebElement (session=\"3b3fb230-1c44-4bfc-99b2-f0a1e8a26e90\", element=\"495266d8-7241-4bec-971b-a7a34c4b8948\")>,\n",
       " <selenium.webdriver.firefox.webelement.FirefoxWebElement (session=\"3b3fb230-1c44-4bfc-99b2-f0a1e8a26e90\", element=\"8990c581-23e5-418a-83e6-0c25d49e20d1\")>,\n",
       " <selenium.webdriver.firefox.webelement.FirefoxWebElement (session=\"3b3fb230-1c44-4bfc-99b2-f0a1e8a26e90\", element=\"c8c55417-06a8-4de3-be38-fc7763caedba\")>,\n",
       " <selenium.webdriver.firefox.webelement.FirefoxWebElement (session=\"3b3fb230-1c44-4bfc-99b2-f0a1e8a26e90\", element=\"4aa270b6-6696-4f90-9a18-8cec633aa0ad\")>,\n",
       " <selenium.webdriver.firefox.webelement.FirefoxWebElement (session=\"3b3fb230-1c44-4bfc-99b2-f0a1e8a26e90\", element=\"8a8a8db7-0748-4f5a-9a98-59d4a1fe1833\")>,\n",
       " <selenium.webdriver.firefox.webelement.FirefoxWebElement (session=\"3b3fb230-1c44-4bfc-99b2-f0a1e8a26e90\", element=\"79c88d5c-e8fc-4272-9b5e-7f984a60ba8b\")>,\n",
       " <selenium.webdriver.firefox.webelement.FirefoxWebElement (session=\"3b3fb230-1c44-4bfc-99b2-f0a1e8a26e90\", element=\"430df8f1-84d9-4b5a-ab86-68b8b492283a\")>,\n",
       " <selenium.webdriver.firefox.webelement.FirefoxWebElement (session=\"3b3fb230-1c44-4bfc-99b2-f0a1e8a26e90\", element=\"9bc3c5b0-bf7d-4f8e-9086-1920d3e1999d\")>,\n",
       " <selenium.webdriver.firefox.webelement.FirefoxWebElement (session=\"3b3fb230-1c44-4bfc-99b2-f0a1e8a26e90\", element=\"f8487b06-54f2-4ad6-8380-1e494b5ff7ef\")>,\n",
       " <selenium.webdriver.firefox.webelement.FirefoxWebElement (session=\"3b3fb230-1c44-4bfc-99b2-f0a1e8a26e90\", element=\"0c7cf80c-0b67-4033-b8d9-9092d7b5366c\")>,\n",
       " <selenium.webdriver.firefox.webelement.FirefoxWebElement (session=\"3b3fb230-1c44-4bfc-99b2-f0a1e8a26e90\", element=\"a94d8c5d-c166-4dee-9a70-ccfbe9ecb37e\")>,\n",
       " <selenium.webdriver.firefox.webelement.FirefoxWebElement (session=\"3b3fb230-1c44-4bfc-99b2-f0a1e8a26e90\", element=\"43044fd6-02f5-42b4-8ea8-8d1d07512e6e\")>,\n",
       " <selenium.webdriver.firefox.webelement.FirefoxWebElement (session=\"3b3fb230-1c44-4bfc-99b2-f0a1e8a26e90\", element=\"f18e45cf-1379-4e2d-b174-e123977a7122\")>,\n",
       " <selenium.webdriver.firefox.webelement.FirefoxWebElement (session=\"3b3fb230-1c44-4bfc-99b2-f0a1e8a26e90\", element=\"81f6b7d2-9161-49a0-904a-932ce64a0f46\")>,\n",
       " <selenium.webdriver.firefox.webelement.FirefoxWebElement (session=\"3b3fb230-1c44-4bfc-99b2-f0a1e8a26e90\", element=\"9fd24187-6ae0-44cf-a4d9-f159bde93534\")>,\n",
       " <selenium.webdriver.firefox.webelement.FirefoxWebElement (session=\"3b3fb230-1c44-4bfc-99b2-f0a1e8a26e90\", element=\"01fb06ae-5764-4fe9-a4bb-1bfa12b31b7a\")>,\n",
       " <selenium.webdriver.firefox.webelement.FirefoxWebElement (session=\"3b3fb230-1c44-4bfc-99b2-f0a1e8a26e90\", element=\"c7decc97-ae60-4993-8268-95ea4d8c2fc5\")>,\n",
       " <selenium.webdriver.firefox.webelement.FirefoxWebElement (session=\"3b3fb230-1c44-4bfc-99b2-f0a1e8a26e90\", element=\"5d79cb7c-059d-4828-bb89-c65dd4dc0a2f\")>,\n",
       " <selenium.webdriver.firefox.webelement.FirefoxWebElement (session=\"3b3fb230-1c44-4bfc-99b2-f0a1e8a26e90\", element=\"341a0dd1-7c48-45ce-8ec6-10e0b1572225\")>,\n",
       " <selenium.webdriver.firefox.webelement.FirefoxWebElement (session=\"3b3fb230-1c44-4bfc-99b2-f0a1e8a26e90\", element=\"bea4f27d-e840-4f50-9c43-c756592b0da5\")>,\n",
       " <selenium.webdriver.firefox.webelement.FirefoxWebElement (session=\"3b3fb230-1c44-4bfc-99b2-f0a1e8a26e90\", element=\"4807f6dd-4636-48d9-94a2-ae570b7f5e75\")>,\n",
       " <selenium.webdriver.firefox.webelement.FirefoxWebElement (session=\"3b3fb230-1c44-4bfc-99b2-f0a1e8a26e90\", element=\"46c46049-a72f-4d44-8658-eaa4e13dfdaf\")>,\n",
       " <selenium.webdriver.firefox.webelement.FirefoxWebElement (session=\"3b3fb230-1c44-4bfc-99b2-f0a1e8a26e90\", element=\"efc97901-4fa8-465a-9c8f-a07d65462739\")>,\n",
       " <selenium.webdriver.firefox.webelement.FirefoxWebElement (session=\"3b3fb230-1c44-4bfc-99b2-f0a1e8a26e90\", element=\"f41990bf-0ac7-4e3b-9224-a7b1e80b1cb7\")>,\n",
       " <selenium.webdriver.firefox.webelement.FirefoxWebElement (session=\"3b3fb230-1c44-4bfc-99b2-f0a1e8a26e90\", element=\"969563d7-f4d3-44ba-ab75-2a492aba2316\")>,\n",
       " <selenium.webdriver.firefox.webelement.FirefoxWebElement (session=\"3b3fb230-1c44-4bfc-99b2-f0a1e8a26e90\", element=\"b5f0b93c-03af-4383-99c2-4cf2deaa4248\")>,\n",
       " <selenium.webdriver.firefox.webelement.FirefoxWebElement (session=\"3b3fb230-1c44-4bfc-99b2-f0a1e8a26e90\", element=\"c43eaa22-6e66-43de-9ab0-277e280c0a66\")>,\n",
       " <selenium.webdriver.firefox.webelement.FirefoxWebElement (session=\"3b3fb230-1c44-4bfc-99b2-f0a1e8a26e90\", element=\"17d37188-a41d-4a7d-b9da-f6ab3f7cbb8f\")>,\n",
       " <selenium.webdriver.firefox.webelement.FirefoxWebElement (session=\"3b3fb230-1c44-4bfc-99b2-f0a1e8a26e90\", element=\"4fd708c5-ff98-4379-9444-7a647899023c\")>,\n",
       " <selenium.webdriver.firefox.webelement.FirefoxWebElement (session=\"3b3fb230-1c44-4bfc-99b2-f0a1e8a26e90\", element=\"7eb102ee-de22-409c-89a2-632dcbbab30f\")>,\n",
       " <selenium.webdriver.firefox.webelement.FirefoxWebElement (session=\"3b3fb230-1c44-4bfc-99b2-f0a1e8a26e90\", element=\"a91dc965-92b5-4662-b397-5c7cff0efe54\")>,\n",
       " <selenium.webdriver.firefox.webelement.FirefoxWebElement (session=\"3b3fb230-1c44-4bfc-99b2-f0a1e8a26e90\", element=\"df6aee82-9715-4a71-8f7b-6ebe5a8902bb\")>]"
      ]
     },
     "execution_count": 58,
     "metadata": {},
     "output_type": "execute_result"
    }
   ],
   "source": [
    "# Get the images by tag name (<img>)\n",
    "\n",
    "images = browser.find_elements_by_tag_name(\"img\")\n",
    "images"
   ]
  },
  {
   "cell_type": "code",
   "execution_count": 59,
   "metadata": {},
   "outputs": [
    {
     "data": {
      "text/plain": [
       "['https://instagram.fcmn1-1.fna.fbcdn.net/v/t51.2885-15/e35/s150x150/163148877_722793841723212_8146816912631408091_n.jpg?tp=1&_nc_ht=instagram.fcmn1-1.fna.fbcdn.net&_nc_cat=100&_nc_ohc=Sqw2NTorSS0AX-GNvZ1&ccb=7-4&oh=2b599da994009c39c7d1f16c005f825c&oe=608148D6',\n",
       " 'https://instagram.fcmn1-1.fna.fbcdn.net/v/t51.2885-15/sh0.08/e35/c0.180.1440.1440a/s640x640/162580915_441862580238870_7658304638412770601_n.jpg?tp=1&_nc_ht=instagram.fcmn1-1.fna.fbcdn.net&_nc_cat=106&_nc_ohc=zylFiIU13gYAX8ds4Lg&ccb=7-4&oh=0f1a222a2288e5cdd2db8db1fb90052c&oe=608113C5',\n",
       " 'https://instagram.fcmn1-1.fna.fbcdn.net/v/t51.2885-15/sh0.08/e35/s640x640/163324710_2930069750595649_5209654094216851637_n.jpg?tp=1&_nc_ht=instagram.fcmn1-1.fna.fbcdn.net&_nc_cat=101&_nc_ohc=EGNCMfIrFnwAX-xuZhB&ccb=7-4&oh=377fe894d93e62d6247eeb8ba9599353&oe=60831B5F',\n",
       " 'https://instagram.fcmn1-1.fna.fbcdn.net/v/t51.2885-15/sh0.08/e35/c0.112.1440.1440a/s640x640/163298047_136432155064925_7051784555619545423_n.jpg?tp=1&_nc_ht=instagram.fcmn1-1.fna.fbcdn.net&_nc_cat=105&_nc_ohc=1g3k11TQ8KcAX_7cWV-&ccb=7-4&oh=6ac6992596b0dd90772595a990b551ad&oe=6081DB79',\n",
       " 'https://instagram.fcmn1-1.fna.fbcdn.net/v/t51.2885-15/sh0.08/e35/c0.141.1124.1124a/s640x640/162987171_296979051849209_2416112237750676512_n.jpg?tp=1&_nc_ht=instagram.fcmn1-1.fna.fbcdn.net&_nc_cat=105&_nc_ohc=6bMP7wQWL1UAX_dPRf7&ccb=7-4&oh=1612e4c357e6b73fa2287b4b884e70ad&oe=60811F43',\n",
       " 'https://instagram.fcmn1-1.fna.fbcdn.net/v/t51.2885-15/sh0.08/e35/s640x640/163232806_3999237833475474_9108022559155183424_n.jpg?tp=1&_nc_ht=instagram.fcmn1-1.fna.fbcdn.net&_nc_cat=106&_nc_ohc=rnvEft-MhI4AX9nth4K&ccb=7-4&oh=48845f29e0e73792020fb8ceec452664&oe=6081FB13',\n",
       " 'https://instagram.fcmn1-1.fna.fbcdn.net/v/t51.2885-15/sh0.08/e35/c240.0.960.960a/s640x640/162508094_148669160471084_4078542765774137066_n.jpg?tp=1&_nc_ht=instagram.fcmn1-1.fna.fbcdn.net&_nc_cat=108&_nc_ohc=m29ovmPleSQAX_4-3li&ccb=7-4&oh=578ce366a544f45ed8748d9b09ed3e57&oe=6080CCFD',\n",
       " 'https://instagram.fcmn1-1.fna.fbcdn.net/v/t51.2885-15/sh0.08/e35/s640x640/163146141_2785033518378228_129555849573572277_n.jpg?tp=1&_nc_ht=instagram.fcmn1-1.fna.fbcdn.net&_nc_cat=100&_nc_ohc=ITC6I4L24V4AX85f56-&ccb=7-4&oh=0ee91e1bdf4fa8d117189f26502710ca&oe=608156D1',\n",
       " 'https://instagram.fcmn1-1.fna.fbcdn.net/v/t51.2885-15/sh0.08/e35/c240.0.960.960a/s640x640/163361398_773463516632164_8567979505526726673_n.jpg?tp=1&_nc_ht=instagram.fcmn1-1.fna.fbcdn.net&_nc_cat=104&_nc_ohc=htET9XONlDQAX9NLvyO&ccb=7-4&oh=6e227090654d2c1ff0123357010a9cb2&oe=608241F5',\n",
       " 'https://instagram.fcmn1-1.fna.fbcdn.net/v/t51.2885-15/sh0.08/e35/s640x640/162854177_162505875695387_6963942750106916018_n.jpg?tp=1&_nc_ht=instagram.fcmn1-1.fna.fbcdn.net&_nc_cat=111&_nc_ohc=Ag0cyPhaqzQAX-1d2iC&ccb=7-4&oh=270dfbc583d934ce2b77a803d7881c04&oe=608252E6',\n",
       " 'https://instagram.fcmn1-1.fna.fbcdn.net/v/t51.2885-15/sh0.08/e35/c0.51.1080.1080a/s640x640/162614170_2786670204977966_1955024323846571620_n.jpg?tp=1&_nc_ht=instagram.fcmn1-1.fna.fbcdn.net&_nc_cat=102&_nc_ohc=F-FbpgrttPgAX8Aq0a_&ccb=7-4&oh=49916dd59a7b783ed8a303ce7c739697&oe=60805FC3',\n",
       " 'https://instagram.fcmn1-1.fna.fbcdn.net/v/t51.2885-15/sh0.08/e35/c0.180.1440.1440a/s640x640/163287844_2728992177431160_7200688549215285877_n.jpg?tp=1&_nc_ht=instagram.fcmn1-1.fna.fbcdn.net&_nc_cat=100&_nc_ohc=EJUWDecHrHIAX8pWTWa&ccb=7-4&oh=8b958dc60edae39065e0f5e2ba905d16&oe=6082860E',\n",
       " 'https://instagram.fcmn1-1.fna.fbcdn.net/v/t51.2885-15/sh0.08/e35/s640x640/163377929_347835216620250_3375120829375483805_n.jpg?tp=1&_nc_ht=instagram.fcmn1-1.fna.fbcdn.net&_nc_cat=106&_nc_ohc=HDdfOytLP4cAX9rNjSQ&ccb=7-4&oh=a3b41719f3b80887050f8b76a5a88e6a&oe=60839D53',\n",
       " 'https://instagram.fcmn1-1.fna.fbcdn.net/v/t51.2885-15/sh0.08/e35/c0.180.1440.1440a/s640x640/162842002_195563719007133_6287921169697717047_n.jpg?tp=1&_nc_ht=instagram.fcmn1-1.fna.fbcdn.net&_nc_cat=109&_nc_ohc=K9S35hF1ra8AX-CxELd&ccb=7-4&oh=72ad928eb2d91a5370a6f2613d9e240c&oe=60802A15',\n",
       " 'https://instagram.fcmn1-1.fna.fbcdn.net/v/t51.2885-15/sh0.08/e35/s640x640/162607570_770964247172201_3933248384574297527_n.jpg?tp=1&_nc_ht=instagram.fcmn1-1.fna.fbcdn.net&_nc_cat=105&_nc_ohc=SnbqvYJDS84AX8GQaeW&ccb=7-4&oh=a84a6d743b1342349236a2b2ffb54705&oe=6080DCFB',\n",
       " 'https://instagram.fcmn1-1.fna.fbcdn.net/v/t51.2885-15/sh0.08/e35/c6.0.1427.1427a/s640x640/164043355_139681651332149_5597378318037999946_n.jpg?tp=1&_nc_ht=instagram.fcmn1-1.fna.fbcdn.net&_nc_cat=105&_nc_ohc=HYFUbSxDc6sAX_E6BfP&ccb=7-4&oh=120c06a4ff11c611473ecb2a3454e73f&oe=6083E7E5',\n",
       " 'https://instagram.fcmn1-1.fna.fbcdn.net/v/t51.2885-15/sh0.08/e35/s640x640/163148877_1192514777908165_1245485662831246255_n.jpg?tp=1&_nc_ht=instagram.fcmn1-1.fna.fbcdn.net&_nc_cat=101&_nc_ohc=CQshbR9eyREAX8hWpG6&ccb=7-4&oh=a4ce4a648dd2528db9d030b3295c83dc&oe=6081ABD2',\n",
       " 'https://instagram.fcmn1-1.fna.fbcdn.net/v/t51.2885-15/sh0.08/e35/s640x640/162888082_107254674687439_4666786716735617802_n.jpg?tp=1&_nc_ht=instagram.fcmn1-1.fna.fbcdn.net&_nc_cat=107&_nc_ohc=CB6stF1eh8wAX9gqmPR&ccb=7-4&oh=a1bf71668585c71326410108e54658b9&oe=6082C096',\n",
       " 'https://instagram.fcmn1-1.fna.fbcdn.net/v/t51.2885-15/sh0.08/e35/s640x640/164127914_4184495951571276_3122504852176478388_n.jpg?tp=1&_nc_ht=instagram.fcmn1-1.fna.fbcdn.net&_nc_cat=100&_nc_ohc=8GGZlWTpTu0AX-4qGML&ccb=7-4&oh=4995befdca5fbd89f516bd417db72d98&oe=60838438',\n",
       " 'https://instagram.fcmn1-1.fna.fbcdn.net/v/t51.2885-15/sh0.08/e35/s640x640/162947347_848079265745834_1288346642367057064_n.jpg?tp=1&_nc_ht=instagram.fcmn1-1.fna.fbcdn.net&_nc_cat=102&_nc_ohc=rfN6WxG6-c4AX9vELFK&ccb=7-4&oh=be88139ec370891e1948d5ba3e692629&oe=60840D1E',\n",
       " 'https://instagram.fcmn1-1.fna.fbcdn.net/v/t51.2885-15/sh0.08/e35/c0.117.937.937a/s640x640/162987548_814689895798447_920732942450699266_n.jpg?tp=1&_nc_ht=instagram.fcmn1-1.fna.fbcdn.net&_nc_cat=107&_nc_ohc=a9RfWIZd0RkAX8wwHNa&ccb=7-4&oh=e0f6f3172482178634c8d5bac9d34cd4&oe=6081C6FD',\n",
       " 'https://instagram.fcmn1-1.fna.fbcdn.net/v/t51.2885-15/sh0.08/e35/c0.180.1440.1440a/s640x640/162713770_779415049372145_8497626524167134999_n.jpg?tp=1&_nc_ht=instagram.fcmn1-1.fna.fbcdn.net&_nc_cat=105&_nc_ohc=WPGAzt9TPmsAX9u-mIF&ccb=7-4&oh=0d118f544f484536ccb2e94ff007295a&oe=6083EF62',\n",
       " 'https://instagram.fcmn1-1.fna.fbcdn.net/v/t51.2885-15/sh0.08/e35/s640x640/162839318_499227577919166_2353693968653396569_n.jpg?tp=1&_nc_ht=instagram.fcmn1-1.fna.fbcdn.net&_nc_cat=106&_nc_ohc=JgZSgFzbSZYAX9ZBipE&ccb=7-4&oh=35621477b1673c6eddf3519cbb708a7c&oe=6083AF96',\n",
       " 'https://instagram.fcmn1-1.fna.fbcdn.net/v/t51.2885-15/sh0.08/e35/s640x640/162923955_244192990749455_7919829504886505505_n.jpg?tp=1&_nc_ht=instagram.fcmn1-1.fna.fbcdn.net&_nc_cat=111&_nc_ohc=CcjKP9pLn-YAX-GygHC&ccb=7-4&oh=6e4deb89cd8d7eb09f5d52c46ab78f32&oe=6082F6A9',\n",
       " 'https://instagram.fcmn1-1.fna.fbcdn.net/v/t51.2885-15/sh0.08/e35/s640x640/162875507_304678304440711_23068679285788084_n.jpg?tp=1&_nc_ht=instagram.fcmn1-1.fna.fbcdn.net&_nc_cat=107&_nc_ohc=bzfZ0pAkO8UAX94Gf8r&ccb=7-4&oh=460706cc7d2889976b0877538c681b4b&oe=6082E144',\n",
       " 'https://instagram.fcmn1-1.fna.fbcdn.net/v/t51.2885-15/sh0.08/e35/c0.180.1440.1440a/s640x640/163381199_838006323447555_923942361858509425_n.jpg?tp=1&_nc_ht=instagram.fcmn1-1.fna.fbcdn.net&_nc_cat=103&_nc_ohc=SqdHBRgKp4YAX9BfceP&ccb=7-4&oh=067f218b652994da07e474f75bf84e12&oe=6083ACCF',\n",
       " 'https://instagram.fcmn1-1.fna.fbcdn.net/v/t51.2885-15/e35/163565356_355885758980835_3185079119927119833_n.jpg?tp=1&_nc_ht=instagram.fcmn1-1.fna.fbcdn.net&_nc_cat=103&_nc_ohc=GIokO3cEKu0AX-sOicf&ccb=7-4&oh=02b57f5af150994fe98d8f0238390d1b&oe=605AF7CF',\n",
       " 'https://instagram.fcmn1-1.fna.fbcdn.net/v/t51.2885-15/sh0.08/e35/c2.0.955.955a/s640x640/163563421_513728656325255_7551058027801777332_n.jpg?tp=1&_nc_ht=instagram.fcmn1-1.fna.fbcdn.net&_nc_cat=111&_nc_ohc=3HHYCWn4DccAX8KIxZN&ccb=7-4&oh=0c35a0e89d9cff1782e281da65853c23&oe=60805EAD',\n",
       " 'https://instagram.fcmn1-1.fna.fbcdn.net/v/t51.2885-15/sh0.08/e35/s640x640/162961518_2790797277902659_652303317160239144_n.jpg?tp=1&_nc_ht=instagram.fcmn1-1.fna.fbcdn.net&_nc_cat=107&_nc_ohc=ZeWDElqa9NwAX-NRItj&ccb=7-4&oh=0fe21f1e0a038fa2fc653ef572a281a1&oe=60811BA6',\n",
       " 'https://instagram.fcmn1-1.fna.fbcdn.net/v/t51.2885-15/e15/c135.0.810.810a/s640x640/162423949_969631383806447_2494018752978163568_n.jpg?tp=1&_nc_ht=instagram.fcmn1-1.fna.fbcdn.net&_nc_cat=111&_nc_ohc=34nsBanLwSwAX836QIs&ccb=7-4&oh=2055f754e1eaaecc46a1ce287048e241&oe=6083A517',\n",
       " 'https://instagram.fcmn1-1.fna.fbcdn.net/v/t51.2885-15/sh0.08/e35/s640x640/162535150_2559686074325969_529492677305704404_n.jpg?tp=1&_nc_ht=instagram.fcmn1-1.fna.fbcdn.net&_nc_cat=105&_nc_ohc=g_24aD_Q99YAX-bWuGs&ccb=7-4&oh=a934f8cf42bb7803a0731c8b0c0006ca&oe=60814670',\n",
       " 'https://instagram.fcmn1-1.fna.fbcdn.net/v/t51.2885-15/sh0.08/e35/s640x640/162692010_1325175171199090_4375000150078876701_n.jpg?tp=1&_nc_ht=instagram.fcmn1-1.fna.fbcdn.net&_nc_cat=110&_nc_ohc=sgIFKWGiw94AX8XxM0s&ccb=7-4&oh=7673b4c7f321c01bb31c7f64f25209b7&oe=6083D369',\n",
       " 'https://instagram.fcmn1-1.fna.fbcdn.net/v/t51.2885-15/sh0.08/e35/c0.61.1440.1440a/s640x640/163516209_1568057793403950_5503661635929346532_n.jpg?tp=1&_nc_ht=instagram.fcmn1-1.fna.fbcdn.net&_nc_cat=106&_nc_ohc=ODlMTxzAk9MAX-ByRXv&ccb=7-4&oh=cd2c0278cefa55f3d8abc1f44762d1c5&oe=6083729B',\n",
       " 'https://instagram.fcmn1-1.fna.fbcdn.net/v/t51.2885-15/sh0.08/e35/s640x640/163349572_189362282716604_3563473619618829201_n.jpg?tp=1&_nc_ht=instagram.fcmn1-1.fna.fbcdn.net&_nc_cat=108&_nc_ohc=j9DoYGGuG2kAX8eiGk7&ccb=7-4&oh=5fb965f6a31139085cbd6e8c65792c49&oe=60804CC5',\n",
       " 'https://www.instagram.com/static/images/web/mobile_nav_type_logo.png/735145cfe0a4.png',\n",
       " 'https://instagram.fcmn1-1.fna.fbcdn.net/v/t51.2885-19/s150x150/161994172_152781286702933_5426106780053104899_n.jpg?tp=1&_nc_ht=instagram.fcmn1-1.fna.fbcdn.net&_nc_ohc=wN1nf--717wAX_9w0bV&ccb=7-4&oh=71e94d5959c23d6c199c4bd64ca1992d&oe=608171F3']"
      ]
     },
     "execution_count": 59,
     "metadata": {},
     "output_type": "execute_result"
    }
   ],
   "source": [
    "# Get the source of the images\n",
    "\n",
    "images = [image.get_attribute('src') for image in images]\n",
    "images"
   ]
  },
  {
   "cell_type": "code",
   "execution_count": 60,
   "metadata": {},
   "outputs": [
    {
     "data": {
      "text/plain": [
       "'C:\\\\Users\\\\USER\\\\dogs'"
      ]
     },
     "execution_count": 60,
     "metadata": {},
     "output_type": "execute_result"
    }
   ],
   "source": [
    "# Create directory and folder to store images \n",
    "\n",
    "path = os.getcwd() \n",
    "path = os.path.join(path,word[1:]+\"s\") \n",
    "os.mkdir(path)\n",
    "path"
   ]
  },
  {
   "cell_type": "code",
   "execution_count": 62,
   "metadata": {},
   "outputs": [],
   "source": [
    "# Save the images\n",
    "\n",
    "count = 0\n",
    "for image in images:\n",
    "    save_as = os.path.join(path, word[1:] + str(count) + '.png')\n",
    "    wget.download(image,save_as)\n",
    "    count += 1\n"
   ]
  },
  {
   "cell_type": "code",
   "execution_count": null,
   "metadata": {},
   "outputs": [],
   "source": []
  }
 ],
 "metadata": {
  "kernelspec": {
   "display_name": "Python 3",
   "language": "python",
   "name": "python3"
  },
  "language_info": {
   "codemirror_mode": {
    "name": "ipython",
    "version": 3
   },
   "file_extension": ".py",
   "mimetype": "text/x-python",
   "name": "python",
   "nbconvert_exporter": "python",
   "pygments_lexer": "ipython3",
   "version": "3.8.5"
  }
 },
 "nbformat": 4,
 "nbformat_minor": 4
}
